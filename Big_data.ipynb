{
  "cells": [
    {
      "cell_type": "code",
      "execution_count": 1,
      "metadata": {
        "colab": {
          "base_uri": "https://localhost:8080/"
        },
        "id": "QBUJSIiv2Rac",
        "outputId": "4da89572-d1e8-4b4d-807d-47606631d429"
      },
      "outputs": [
        {
          "name": "stdout",
          "output_type": "stream",
          "text": [
            "Mounted at /content/drive\n"
          ]
        }
      ],
      "source": [
        "# from google.colab import drive\n",
        "# drive.mount('/content/drive')"
      ]
    },
    {
      "cell_type": "markdown",
      "metadata": {
        "id": "FxAtkC1H2nzu"
      },
      "source": [
        "### Transform video into numpy"
      ]
    },
    {
      "cell_type": "code",
      "execution_count": null,
      "metadata": {
        "id": "7m-wXQ9vwwcR"
      },
      "outputs": [],
      "source": [
        "!pip install opencv-python\n",
        "!pip install matplotlib\n",
        "!pip install np_utils\n",
        "!pip install tensorflow\n",
        "!pip install keras"
      ]
    },
    {
      "cell_type": "code",
      "execution_count": 2,
      "metadata": {
        "id": "023_fKkT2WN4"
      },
      "outputs": [],
      "source": [
        "import cv2\n",
        "import numpy as np\n",
        "import matplotlib.pyplot as plt\n",
        "import os\n",
        "from tqdm import tqdm"
      ]
    },
    {
      "cell_type": "markdown",
      "metadata": {
        "id": "DlRfaDE0F_ds"
      },
      "source": [
        "##### getOpticalFlow: use to calculate the optical flow between each pair of frames\n",
        "Input: video<br>\n",
        "Output:\n",
        "\n",
        "flows_x: Optical flow along the x-axis for each framepair\n",
        "\n",
        "flows_y: Optical flow along the y-axis for each frame pair,"
      ]
    },
    {
      "cell_type": "code",
      "execution_count": 3,
      "metadata": {
        "id": "70h9Dvz92rhc"
      },
      "outputs": [],
      "source": [
        "def getOpticalFlow(video):\n",
        "    \"\"\"Calculate dense optical flow of input video\n",
        "    Args:\n",
        "        video: the input video with shape of [frames,height,width,channel].dtype=np.array\n",
        "    Returns:\n",
        "        flows_x: the optical flow at x-axis, with the shape of [frames,height,width,channel]\n",
        "        flows_y: the optical flow at y-axis, with the shape of [frames,height,width,channel]\n",
        "    \"\"\"\n",
        "    # initialize the list of optical flows\n",
        "    gray_video = []\n",
        "    for i in range(len(video)):\n",
        "        img = cv2.cvtColor(video[i], cv2.COLOR_RGB2GRAY)\n",
        "        gray_video.append(np.reshape(img,(224,224,1)))\n",
        "\n",
        "    flows = []\n",
        "    for i in range(0,len(video)-1):\n",
        "        # calculate optical flow between each pair of frames\n",
        "        flow = cv2.calcOpticalFlowFarneback(gray_video[i], gray_video[i+1], None, 0.5, 3, 15, 3, 5, 1.2, cv2.OPTFLOW_FARNEBACK_GAUSSIAN)\n",
        "        # subtract the mean in order to eliminate the movement of camera\n",
        "        flow[..., 0] -= np.mean(flow[..., 0])\n",
        "        flow[..., 1] -= np.mean(flow[..., 1])\n",
        "        # normalize each component in optical flow\n",
        "        flow[..., 0] = cv2.normalize(flow[..., 0],None,0,255,cv2.NORM_MINMAX)\n",
        "        flow[..., 1] = cv2.normalize(flow[..., 1],None,0,255,cv2.NORM_MINMAX)\n",
        "        # Add into list\n",
        "        flows.append(flow)\n",
        "\n",
        "    # Padding the last frame as empty array\n",
        "    flows.append(np.zeros((224,224,2)))\n",
        "\n",
        "    return np.array(flows, dtype=np.float32)"
      ]
    },
    {
      "cell_type": "markdown",
      "metadata": {
        "id": "_qoiVdjJM6HE"
      },
      "source": [
        "##### Video2Npy\n",
        "Input: Video path and resize vaule(224 x 224) default\n",
        "\n",
        "Output: The array [frames, 224, 244, 5] (R G B x-axist y-axist)\n",
        "\n"
      ]
    },
    {
      "cell_type": "code",
      "execution_count": 4,
      "metadata": {
        "id": "sFf7MkYc2t8A"
      },
      "outputs": [],
      "source": [
        "def Video2Npy(file_path, resize=(224,224)):\n",
        "    \"\"\"Load video and tansfer it into .npy format\n",
        "    Args:\n",
        "        file_path: the path of video file\n",
        "        resize: the target resolution of output video\n",
        "    Returns:\n",
        "        frames: gray-scale video\n",
        "        flows: magnitude video of optical flows\n",
        "    \"\"\"\n",
        "    # Load video\n",
        "    cap = cv2.VideoCapture(file_path)\n",
        "    # Get number of frames\n",
        "    len_frames = int(cap.get(7))\n",
        "    # Extract frames from video\n",
        "    try:\n",
        "        frames = []\n",
        "        for i in range(len_frames-1):\n",
        "            _, frame = cap.read()\n",
        "            frame = cv2.resize(frame,resize, interpolation=cv2.INTER_AREA)\n",
        "            frame = cv2.cvtColor(frame, cv2.COLOR_BGR2RGB)\n",
        "            frame = np.reshape(frame, (224,224,3))\n",
        "            frames.append(frame)\n",
        "    except:\n",
        "        print(\"Error: \", file_path, len_frames,i)\n",
        "    finally:\n",
        "        frames = np.array(frames)\n",
        "        cap.release()\n",
        "\n",
        "    # Get the optical flow of video\n",
        "    flows = getOpticalFlow(frames)\n",
        "\n",
        "    result = np.zeros((len(flows),224,224,5))\n",
        "    result[...,:3] = frames\n",
        "    result[...,3:] = flows\n",
        "\n",
        "    return result"
      ]
    },
    {
      "cell_type": "code",
      "execution_count": 5,
      "metadata": {
        "id": "6odKMVlG2xl_"
      },
      "outputs": [],
      "source": [
        "def Save2Npy(file_dir, save_dir):\n",
        "    \"\"\"Transfer all the videos and save them into specified directory\n",
        "    Args:\n",
        "        file_dir: source folder of target videos\n",
        "        save_dir: destination folder of output .npy files\n",
        "    \"\"\"\n",
        "    if not os.path.exists(save_dir):\n",
        "        os.makedirs(save_dir)\n",
        "    # List the files\n",
        "    videos = os.listdir(file_dir)\n",
        "    for v in tqdm(videos):\n",
        "        # Split video name\n",
        "        video_name = v.split('.')[0]\n",
        "        # Get src\n",
        "        video_path = os.path.join(file_dir, v)\n",
        "        # Get dest\n",
        "        save_path = os.path.join(save_dir, video_name+'.npy')\n",
        "        # Load and preprocess video\n",
        "        data = Video2Npy(file_path=video_path, resize=(224,224))\n",
        "        data = np.uint8(data)\n",
        "        # Save as .npy file\n",
        "        np.save(save_path, data)\n",
        "\n",
        "    return None"
      ]
    },
    {
      "cell_type": "markdown",
      "metadata": {
        "id": "OVJk387Z3FwG"
      },
      "source": [
        "#### TODO Here"
      ]
    },
    {
      "cell_type": "code",
      "execution_count": 6,
      "metadata": {
        "colab": {
          "base_uri": "https://localhost:8080/"
        },
        "id": "8-Xn8eBt36AX",
        "outputId": "5afc9d2f-2ec0-4896-8f0a-0d063ad3ae9e"
      },
      "outputs": [
        {
          "name": "stderr",
          "output_type": "stream",
          "text": [
            "100%|██████████| 2/2 [00:16<00:00,  8.15s/it]\n",
            "100%|██████████| 2/2 [00:11<00:00,  5.50s/it]\n",
            "100%|██████████| 1/1 [00:05<00:00,  5.31s/it]\n",
            "100%|██████████| 1/1 [00:07<00:00,  7.78s/it]\n"
          ]
        }
      ],
      "source": [
        "source_path = \"/home/islabworker3/tienvo/dangdat/data-video/train val\"\n",
        "target_path = \"/home/islabworker3/tienvo/dangdat/data-video/source\"\n",
        "\n",
        "for f1 in ['train', 'val']:\n",
        "    for f2 in ['Normal', 'Restrict']:\n",
        "        path1 = os.path.join(source_path, f1, f2)\n",
        "        path2 = os.path.join(target_path, f1, f2)\n",
        "        Save2Npy(file_dir=path1, save_dir=path2)"
      ]
    },
    {
      "cell_type": "markdown",
      "metadata": {
        "id": "sY3s8cOSSuxf"
      },
      "source": [
        "# Build and load model"
      ]
    },
    {
      "cell_type": "markdown",
      "metadata": {
        "id": "kAta8LrbS2l5"
      },
      "source": [
        "### Data loader"
      ]
    },
    {
      "cell_type": "code",
      "execution_count": null,
      "metadata": {
        "colab": {
          "base_uri": "https://localhost:8080/"
        },
        "id": "1rdHy-TROJvA",
        "outputId": "d0f43869-99b1-49da-e6b7-78c538cefe14"
      },
      "outputs": [
        {
          "name": "stdout",
          "output_type": "stream",
          "text": [
            "Collecting np_utils\n",
            "  Downloading np_utils-0.6.0.tar.gz (61 kB)\n",
            "\u001b[?25l     \u001b[90m━━━━━━━━━━━━━━━━━━━━━━━━━━━━━━━━━━━━━━━━\u001b[0m \u001b[32m0.0/62.0 kB\u001b[0m \u001b[31m?\u001b[0m eta \u001b[36m-:--:--\u001b[0m\r\u001b[2K     \u001b[90m━━━━━━━━━━━━━━━━━━━━━━━━━━━━━━━━━━━━━━━━\u001b[0m \u001b[32m62.0/62.0 kB\u001b[0m \u001b[31m2.8 MB/s\u001b[0m eta \u001b[36m0:00:00\u001b[0m\n",
            "\u001b[?25h  Preparing metadata (setup.py) ... \u001b[?25l\u001b[?25hdone\n",
            "Requirement already satisfied: numpy>=1.0 in /usr/local/lib/python3.10/dist-packages (from np_utils) (1.25.2)\n",
            "Building wheels for collected packages: np_utils\n",
            "  Building wheel for np_utils (setup.py) ... \u001b[?25l\u001b[?25hdone\n",
            "  Created wheel for np_utils: filename=np_utils-0.6.0-py3-none-any.whl size=56441 sha256=f616a799838ff566d3fab1e1d9004fb728edc8b7d9e346dc9153275e1f45a674\n",
            "  Stored in directory: /root/.cache/pip/wheels/b6/c7/50/2307607f44366dd021209f660045f8d51cb976514d30be7cc7\n",
            "Successfully built np_utils\n",
            "Installing collected packages: np_utils\n",
            "Successfully installed np_utils-0.6.0\n"
          ]
        }
      ],
      "source": [
        "# !pip install np_utils"
      ]
    },
    {
      "cell_type": "code",
      "execution_count": 7,
      "metadata": {
        "id": "pc2TuR1cSui7"
      },
      "outputs": [],
      "source": [
        "from keras.utils import Sequence\n",
        "from keras.utils import to_categorical\n",
        "\n",
        "class DataGenerator(Sequence):\n",
        "    \"\"\"Data Generator inherited from keras.utils.Sequence\n",
        "    Args:\n",
        "        directory: the path of data set, and each sub-folder will be assigned to one class\n",
        "        batch_size: the number of data points in each batch\n",
        "        shuffle: whether to shuffle the data per epoch\n",
        "    Note:\n",
        "        If you want to load file with other data format, please fix the method of \"load_data\" as you want\n",
        "    \"\"\"\n",
        "    def __init__(self, directory, batch_size=1, shuffle=True, data_augmentation=True):\n",
        "        # Initialize the params\n",
        "        self.batch_size = batch_size\n",
        "        self.directory = directory\n",
        "        self.shuffle = shuffle\n",
        "        self.data_aug = data_augmentation\n",
        "        # Load all the save_path of files, and create a dictionary that save the pair of \"data:label\"\n",
        "        self.X_path, self.Y_dict = self.search_data()\n",
        "        # Print basic statistics information\n",
        "        self.print_stats()\n",
        "        return None\n",
        "\n",
        "    def search_data(self):\n",
        "        X_path = []\n",
        "        Y_dict = {}\n",
        "        # list all kinds of sub-folders\n",
        "        self.dirs = sorted(os.listdir(self.directory))\n",
        "        one_hots = to_categorical(range(len(self.dirs)))\n",
        "        for i,folder in enumerate(self.dirs):\n",
        "            folder_path = os.path.join(self.directory,folder)\n",
        "            for file in os.listdir(folder_path):\n",
        "                file_path = os.path.join(folder_path,file)\n",
        "                # append the each file path, and keep its label\n",
        "                X_path.append(file_path)\n",
        "                Y_dict[file_path] = one_hots[i]\n",
        "        return X_path, Y_dict\n",
        "\n",
        "    def print_stats(self):\n",
        "        # calculate basic information\n",
        "        self.n_files = len(self.X_path)\n",
        "        self.n_classes = len(self.dirs)\n",
        "        self.indexes = np.arange(len(self.X_path))\n",
        "        np.random.shuffle(self.indexes)\n",
        "        # Output states\n",
        "        print(\"Found {} files belonging to {} classes.\".format(self.n_files,self.n_classes))\n",
        "        for i,label in enumerate(self.dirs):\n",
        "            print('%10s : '%(label),i)\n",
        "        return None\n",
        "\n",
        "    def __len__(self):\n",
        "        # calculate the iterations of each epoch\n",
        "        steps_per_epoch = np.ceil(len(self.X_path) / float(self.batch_size))\n",
        "        return int(steps_per_epoch)\n",
        "\n",
        "    def __getitem__(self, index):\n",
        "        \"\"\"Get the data of each batch\n",
        "        \"\"\"\n",
        "        # get the indexs of each batch\n",
        "        batch_indexs = self.indexes[index*self.batch_size:(index+1)*self.batch_size]\n",
        "        # using batch_indexs to get path of current batch\n",
        "        batch_path = [self.X_path[k] for k in batch_indexs]\n",
        "        # get batch data\n",
        "        batch_x, batch_y = self.data_generation(batch_path)\n",
        "        return batch_x, batch_y\n",
        "\n",
        "    def on_epoch_end(self):\n",
        "        # shuffle the data at each end of epoch\n",
        "        if self.shuffle == True:\n",
        "            np.random.shuffle(self.indexes)\n",
        "\n",
        "    def data_generation(self, batch_path):\n",
        "        # load data into memory, you can change the np.load to any method you want\n",
        "        batch_x = [self.load_data(x) for x in batch_path]\n",
        "        batch_y = [self.Y_dict[x] for x in batch_path]\n",
        "        # transfer the data format and take one-hot coding for labels\n",
        "        batch_x = np.array(batch_x)\n",
        "        batch_y = np.array(batch_y)\n",
        "        return batch_x, batch_y\n",
        "\n",
        "    def normalize(self, data):\n",
        "        mean = np.mean(data)\n",
        "        std = np.std(data)\n",
        "        return (data-mean) / std\n",
        "\n",
        "    def random_flip(self, video, prob):\n",
        "        s = np.random.rand()\n",
        "        if s < prob:\n",
        "            video = np.flip(m=video, axis=2)\n",
        "        return video\n",
        "\n",
        "    def uniform_sampling(self, video, target_frames=64):\n",
        "        # get total frames of input video and calculate sampling interval\n",
        "        len_frames = int(len(video))\n",
        "        interval = int(np.ceil(len_frames/target_frames))\n",
        "        # init empty list for sampled video and\n",
        "        sampled_video = []\n",
        "        for i in range(0,len_frames,interval):\n",
        "            sampled_video.append(video[i])\n",
        "        # calculate numer of padded frames and fix it\n",
        "        num_pad = target_frames - len(sampled_video)\n",
        "        padding = []\n",
        "        if num_pad>0:\n",
        "            for i in range(-num_pad,0):\n",
        "                try:\n",
        "                    padding.append(video[i])\n",
        "                except:\n",
        "                    padding.append(video[0])\n",
        "            sampled_video += padding\n",
        "        # get sampled video\n",
        "        return np.array(sampled_video, dtype=np.float32)\n",
        "\n",
        "    def random_clip(self, video, target_frames=64):\n",
        "        start_point = np.random.randint(len(video)-target_frames)\n",
        "        return video[start_point:start_point+target_frames]\n",
        "\n",
        "    def dynamic_crop(self, video):\n",
        "        # extract layer of optical flow from video\n",
        "        opt_flows = video[...,3]\n",
        "        # sum of optical flow magnitude of individual frame\n",
        "        magnitude = np.sum(opt_flows, axis=0)\n",
        "        # filter slight noise by threshold\n",
        "        thresh = np.mean(magnitude)\n",
        "        magnitude[magnitude<thresh] = 0\n",
        "        # calculate center of gravity of magnitude map and adding 0.001 to avoid empty value\n",
        "        x_pdf = np.sum(magnitude, axis=1) + 0.001\n",
        "        y_pdf = np.sum(magnitude, axis=0) + 0.001\n",
        "        # normalize PDF of x and y so that the sum of probs = 1\n",
        "        x_pdf /= np.sum(x_pdf)\n",
        "        y_pdf /= np.sum(y_pdf)\n",
        "        # randomly choose some candidates for x and y\n",
        "        x_points = np.random.choice(a=np.arange(224), size=10, replace=True, p=x_pdf)\n",
        "        y_points = np.random.choice(a=np.arange(224), size=10, replace=True, p=y_pdf)\n",
        "        # get the mean of x and y coordinates for better robustness\n",
        "        x = int(np.mean(x_points))\n",
        "        y = int(np.mean(y_points))\n",
        "        # avoid to beyond boundaries of array\n",
        "        x = max(56,min(x,167))\n",
        "        y = max(56,min(y,167))\n",
        "        # get cropped video\n",
        "        return video[:,x-56:x+56,y-56:y+56,:]\n",
        "\n",
        "    def color_jitter(self,video):\n",
        "        # range of s-component: 0-1\n",
        "        # range of v component: 0-255\n",
        "        s_jitter = np.random.uniform(-0.2,0.2)\n",
        "        v_jitter = np.random.uniform(-30,30)\n",
        "        for i in range(len(video)):\n",
        "            hsv = cv2.cvtColor(video[i], cv2.COLOR_RGB2HSV)\n",
        "            s = hsv[...,1] + s_jitter\n",
        "            v = hsv[...,2] + v_jitter\n",
        "            s[s<0] = 0\n",
        "            s[s>1] = 1\n",
        "            v[v<0] = 0\n",
        "            v[v>255] = 255\n",
        "            hsv[...,1] = s\n",
        "            hsv[...,2] = v\n",
        "            video[i] = cv2.cvtColor(hsv, cv2.COLOR_HSV2RGB)\n",
        "        return video\n",
        "\n",
        "    def load_data(self, path):\n",
        "        # load the processed .npy files which have 5 channels (1-3 for RGB, 4-5 for optical flows)\n",
        "        data = np.load(path, mmap_mode='r')\n",
        "        data = np.float32(data)\n",
        "        # sampling 64 frames uniformly from the entire video\n",
        "        data = self.uniform_sampling(video=data, target_frames=64)\n",
        "        # whether to utilize the data augmentation\n",
        "        if  self.data_aug:\n",
        "            data[...,:3] = self.color_jitter(data[...,:3])\n",
        "            data = self.random_flip(data, prob=0.5)\n",
        "        # normalize rgb images and optical flows, respectively\n",
        "        data[...,:3] = self.normalize(data[...,:3])\n",
        "        data[...,3:] = self.normalize(data[...,3:])\n",
        "        return data"
      ]
    },
    {
      "cell_type": "markdown",
      "metadata": {
        "id": "iiw57RRgS8Nh"
      },
      "source": [
        "## Build model"
      ]
    },
    {
      "cell_type": "code",
      "execution_count": null,
      "metadata": {
        "colab": {
          "base_uri": "https://localhost:8080/"
        },
        "collapsed": true,
        "id": "dOV9eekLTSsI",
        "outputId": "6fbef693-e308-4889-eb60-ee1eb1ee1416"
      },
      "outputs": [
        {
          "name": "stdout",
          "output_type": "stream",
          "text": [
            "Requirement already satisfied: tensorflow in /usr/local/lib/python3.10/dist-packages (2.15.0)\n",
            "Requirement already satisfied: absl-py>=1.0.0 in /usr/local/lib/python3.10/dist-packages (from tensorflow) (1.4.0)\n",
            "Requirement already satisfied: astunparse>=1.6.0 in /usr/local/lib/python3.10/dist-packages (from tensorflow) (1.6.3)\n",
            "Requirement already satisfied: flatbuffers>=23.5.26 in /usr/local/lib/python3.10/dist-packages (from tensorflow) (24.3.25)\n",
            "Requirement already satisfied: gast!=0.5.0,!=0.5.1,!=0.5.2,>=0.2.1 in /usr/local/lib/python3.10/dist-packages (from tensorflow) (0.5.5)\n",
            "Requirement already satisfied: google-pasta>=0.1.1 in /usr/local/lib/python3.10/dist-packages (from tensorflow) (0.2.0)\n",
            "Requirement already satisfied: h5py>=2.9.0 in /usr/local/lib/python3.10/dist-packages (from tensorflow) (3.9.0)\n",
            "Requirement already satisfied: libclang>=13.0.0 in /usr/local/lib/python3.10/dist-packages (from tensorflow) (18.1.1)\n",
            "Requirement already satisfied: ml-dtypes~=0.2.0 in /usr/local/lib/python3.10/dist-packages (from tensorflow) (0.2.0)\n",
            "Requirement already satisfied: numpy<2.0.0,>=1.23.5 in /usr/local/lib/python3.10/dist-packages (from tensorflow) (1.25.2)\n",
            "Requirement already satisfied: opt-einsum>=2.3.2 in /usr/local/lib/python3.10/dist-packages (from tensorflow) (3.3.0)\n",
            "Requirement already satisfied: packaging in /usr/local/lib/python3.10/dist-packages (from tensorflow) (24.1)\n",
            "Requirement already satisfied: protobuf!=4.21.0,!=4.21.1,!=4.21.2,!=4.21.3,!=4.21.4,!=4.21.5,<5.0.0dev,>=3.20.3 in /usr/local/lib/python3.10/dist-packages (from tensorflow) (3.20.3)\n",
            "Requirement already satisfied: setuptools in /usr/local/lib/python3.10/dist-packages (from tensorflow) (67.7.2)\n",
            "Requirement already satisfied: six>=1.12.0 in /usr/local/lib/python3.10/dist-packages (from tensorflow) (1.16.0)\n",
            "Requirement already satisfied: termcolor>=1.1.0 in /usr/local/lib/python3.10/dist-packages (from tensorflow) (2.4.0)\n",
            "Requirement already satisfied: typing-extensions>=3.6.6 in /usr/local/lib/python3.10/dist-packages (from tensorflow) (4.12.2)\n",
            "Requirement already satisfied: wrapt<1.15,>=1.11.0 in /usr/local/lib/python3.10/dist-packages (from tensorflow) (1.14.1)\n",
            "Requirement already satisfied: tensorflow-io-gcs-filesystem>=0.23.1 in /usr/local/lib/python3.10/dist-packages (from tensorflow) (0.37.0)\n",
            "Requirement already satisfied: grpcio<2.0,>=1.24.3 in /usr/local/lib/python3.10/dist-packages (from tensorflow) (1.64.1)\n",
            "Requirement already satisfied: tensorboard<2.16,>=2.15 in /usr/local/lib/python3.10/dist-packages (from tensorflow) (2.15.2)\n",
            "Requirement already satisfied: tensorflow-estimator<2.16,>=2.15.0 in /usr/local/lib/python3.10/dist-packages (from tensorflow) (2.15.0)\n",
            "Requirement already satisfied: keras<2.16,>=2.15.0 in /usr/local/lib/python3.10/dist-packages (from tensorflow) (2.15.0)\n",
            "Requirement already satisfied: wheel<1.0,>=0.23.0 in /usr/local/lib/python3.10/dist-packages (from astunparse>=1.6.0->tensorflow) (0.43.0)\n",
            "Requirement already satisfied: google-auth<3,>=1.6.3 in /usr/local/lib/python3.10/dist-packages (from tensorboard<2.16,>=2.15->tensorflow) (2.27.0)\n",
            "Requirement already satisfied: google-auth-oauthlib<2,>=0.5 in /usr/local/lib/python3.10/dist-packages (from tensorboard<2.16,>=2.15->tensorflow) (1.2.0)\n",
            "Requirement already satisfied: markdown>=2.6.8 in /usr/local/lib/python3.10/dist-packages (from tensorboard<2.16,>=2.15->tensorflow) (3.6)\n",
            "Requirement already satisfied: requests<3,>=2.21.0 in /usr/local/lib/python3.10/dist-packages (from tensorboard<2.16,>=2.15->tensorflow) (2.31.0)\n",
            "Requirement already satisfied: tensorboard-data-server<0.8.0,>=0.7.0 in /usr/local/lib/python3.10/dist-packages (from tensorboard<2.16,>=2.15->tensorflow) (0.7.2)\n",
            "Requirement already satisfied: werkzeug>=1.0.1 in /usr/local/lib/python3.10/dist-packages (from tensorboard<2.16,>=2.15->tensorflow) (3.0.3)\n",
            "Requirement already satisfied: cachetools<6.0,>=2.0.0 in /usr/local/lib/python3.10/dist-packages (from google-auth<3,>=1.6.3->tensorboard<2.16,>=2.15->tensorflow) (5.3.3)\n",
            "Requirement already satisfied: pyasn1-modules>=0.2.1 in /usr/local/lib/python3.10/dist-packages (from google-auth<3,>=1.6.3->tensorboard<2.16,>=2.15->tensorflow) (0.4.0)\n",
            "Requirement already satisfied: rsa<5,>=3.1.4 in /usr/local/lib/python3.10/dist-packages (from google-auth<3,>=1.6.3->tensorboard<2.16,>=2.15->tensorflow) (4.9)\n",
            "Requirement already satisfied: requests-oauthlib>=0.7.0 in /usr/local/lib/python3.10/dist-packages (from google-auth-oauthlib<2,>=0.5->tensorboard<2.16,>=2.15->tensorflow) (1.3.1)\n",
            "Requirement already satisfied: charset-normalizer<4,>=2 in /usr/local/lib/python3.10/dist-packages (from requests<3,>=2.21.0->tensorboard<2.16,>=2.15->tensorflow) (3.3.2)\n",
            "Requirement already satisfied: idna<4,>=2.5 in /usr/local/lib/python3.10/dist-packages (from requests<3,>=2.21.0->tensorboard<2.16,>=2.15->tensorflow) (3.7)\n",
            "Requirement already satisfied: urllib3<3,>=1.21.1 in /usr/local/lib/python3.10/dist-packages (from requests<3,>=2.21.0->tensorboard<2.16,>=2.15->tensorflow) (2.0.7)\n",
            "Requirement already satisfied: certifi>=2017.4.17 in /usr/local/lib/python3.10/dist-packages (from requests<3,>=2.21.0->tensorboard<2.16,>=2.15->tensorflow) (2024.6.2)\n",
            "Requirement already satisfied: MarkupSafe>=2.1.1 in /usr/local/lib/python3.10/dist-packages (from werkzeug>=1.0.1->tensorboard<2.16,>=2.15->tensorflow) (2.1.5)\n",
            "Requirement already satisfied: pyasn1<0.7.0,>=0.4.6 in /usr/local/lib/python3.10/dist-packages (from pyasn1-modules>=0.2.1->google-auth<3,>=1.6.3->tensorboard<2.16,>=2.15->tensorflow) (0.6.0)\n",
            "Requirement already satisfied: oauthlib>=3.0.0 in /usr/local/lib/python3.10/dist-packages (from requests-oauthlib>=0.7.0->google-auth-oauthlib<2,>=0.5->tensorboard<2.16,>=2.15->tensorflow) (3.2.2)\n"
          ]
        }
      ],
      "source": [
        "!pip install tensorflow"
      ]
    },
    {
      "cell_type": "code",
      "execution_count": 8,
      "metadata": {
        "id": "VCizQdO3SrEp"
      },
      "outputs": [],
      "source": [
        "from tensorflow.keras.models import Sequential, Model\n",
        "from tensorflow.keras.layers import Dense, Flatten, Conv3D, MaxPooling3D, Dropout, BatchNormalization, Activation, LeakyReLU, Input\n",
        "from tensorflow.keras.regularizers import l2\n",
        "from tensorflow.keras.layers import Add, Multiply, Lambda"
      ]
    },
    {
      "cell_type": "code",
      "execution_count": 9,
      "metadata": {
        "id": "7IHG3yOQVG6m"
      },
      "outputs": [],
      "source": [
        "# extract the rgb images\n",
        "def get_rgb(input_x):\n",
        "    rgb = input_x[...,:3]\n",
        "    return rgb\n",
        "\n",
        "# extract the optical flows\n",
        "def get_opt(input_x):\n",
        "    opt= input_x[...,3:5]\n",
        "    return opt"
      ]
    },
    {
      "cell_type": "code",
      "execution_count": 10,
      "metadata": {
        "colab": {
          "base_uri": "https://localhost:8080/"
        },
        "id": "bmRG2si-VJLY",
        "outputId": "6b14dfdd-0ca8-4833-f34c-957e82621b7d"
      },
      "outputs": [
        {
          "name": "stdout",
          "output_type": "stream",
          "text": [
            "Model: \"model\"\n",
            "__________________________________________________________________________________________________\n",
            " Layer (type)                Output Shape                 Param #   Connected to                  \n",
            "==================================================================================================\n",
            " input_1 (InputLayer)        [(None, 64, 224, 224, 5)]    0         []                            \n",
            "                                                                                                  \n",
            " lambda (Lambda)             (None, 64, 224, 224, 3)      0         ['input_1[0][0]']             \n",
            "                                                                                                  \n",
            " lambda_1 (Lambda)           (None, 64, 224, 224, 2)      0         ['input_1[0][0]']             \n",
            "                                                                                                  \n",
            " conv3d (Conv3D)             (None, 64, 224, 224, 16)     448       ['lambda[0][0]']              \n",
            "                                                                                                  \n",
            " conv3d_8 (Conv3D)           (None, 64, 224, 224, 16)     304       ['lambda_1[0][0]']            \n",
            "                                                                                                  \n",
            " conv3d_1 (Conv3D)           (None, 64, 224, 224, 16)     784       ['conv3d[0][0]']              \n",
            "                                                                                                  \n",
            " conv3d_9 (Conv3D)           (None, 64, 224, 224, 16)     784       ['conv3d_8[0][0]']            \n",
            "                                                                                                  \n",
            " max_pooling3d (MaxPooling3  (None, 64, 112, 112, 16)     0         ['conv3d_1[0][0]']            \n",
            " D)                                                                                               \n",
            "                                                                                                  \n",
            " max_pooling3d_4 (MaxPoolin  (None, 64, 112, 112, 16)     0         ['conv3d_9[0][0]']            \n",
            " g3D)                                                                                             \n",
            "                                                                                                  \n",
            " conv3d_2 (Conv3D)           (None, 64, 112, 112, 16)     2320      ['max_pooling3d[0][0]']       \n",
            "                                                                                                  \n",
            " conv3d_10 (Conv3D)          (None, 64, 112, 112, 16)     2320      ['max_pooling3d_4[0][0]']     \n",
            "                                                                                                  \n",
            " conv3d_3 (Conv3D)           (None, 64, 112, 112, 16)     784       ['conv3d_2[0][0]']            \n",
            "                                                                                                  \n",
            " conv3d_11 (Conv3D)          (None, 64, 112, 112, 16)     784       ['conv3d_10[0][0]']           \n",
            "                                                                                                  \n",
            " max_pooling3d_1 (MaxPoolin  (None, 64, 56, 56, 16)       0         ['conv3d_3[0][0]']            \n",
            " g3D)                                                                                             \n",
            "                                                                                                  \n",
            " max_pooling3d_5 (MaxPoolin  (None, 64, 56, 56, 16)       0         ['conv3d_11[0][0]']           \n",
            " g3D)                                                                                             \n",
            "                                                                                                  \n",
            " conv3d_4 (Conv3D)           (None, 64, 56, 56, 32)       4640      ['max_pooling3d_1[0][0]']     \n",
            "                                                                                                  \n",
            " conv3d_12 (Conv3D)          (None, 64, 56, 56, 32)       4640      ['max_pooling3d_5[0][0]']     \n",
            "                                                                                                  \n",
            " conv3d_5 (Conv3D)           (None, 64, 56, 56, 32)       3104      ['conv3d_4[0][0]']            \n",
            "                                                                                                  \n",
            " conv3d_13 (Conv3D)          (None, 64, 56, 56, 32)       3104      ['conv3d_12[0][0]']           \n",
            "                                                                                                  \n",
            " max_pooling3d_2 (MaxPoolin  (None, 64, 28, 28, 32)       0         ['conv3d_5[0][0]']            \n",
            " g3D)                                                                                             \n",
            "                                                                                                  \n",
            " max_pooling3d_6 (MaxPoolin  (None, 64, 28, 28, 32)       0         ['conv3d_13[0][0]']           \n",
            " g3D)                                                                                             \n",
            "                                                                                                  \n",
            " conv3d_6 (Conv3D)           (None, 64, 28, 28, 32)       9248      ['max_pooling3d_2[0][0]']     \n",
            "                                                                                                  \n",
            " conv3d_14 (Conv3D)          (None, 64, 28, 28, 32)       9248      ['max_pooling3d_6[0][0]']     \n",
            "                                                                                                  \n",
            " conv3d_7 (Conv3D)           (None, 64, 28, 28, 32)       3104      ['conv3d_6[0][0]']            \n",
            "                                                                                                  \n",
            " conv3d_15 (Conv3D)          (None, 64, 28, 28, 32)       3104      ['conv3d_14[0][0]']           \n",
            "                                                                                                  \n",
            " max_pooling3d_3 (MaxPoolin  (None, 64, 14, 14, 32)       0         ['conv3d_7[0][0]']            \n",
            " g3D)                                                                                             \n",
            "                                                                                                  \n",
            " max_pooling3d_7 (MaxPoolin  (None, 64, 14, 14, 32)       0         ['conv3d_15[0][0]']           \n",
            " g3D)                                                                                             \n",
            "                                                                                                  \n",
            " multiply (Multiply)         (None, 64, 14, 14, 32)       0         ['max_pooling3d_3[0][0]',     \n",
            "                                                                     'max_pooling3d_7[0][0]']     \n",
            "                                                                                                  \n",
            " max_pooling3d_8 (MaxPoolin  (None, 8, 14, 14, 32)        0         ['multiply[0][0]']            \n",
            " g3D)                                                                                             \n",
            "                                                                                                  \n",
            " conv3d_16 (Conv3D)          (None, 8, 14, 14, 64)        18496     ['max_pooling3d_8[0][0]']     \n",
            "                                                                                                  \n",
            " conv3d_17 (Conv3D)          (None, 8, 14, 14, 64)        12352     ['conv3d_16[0][0]']           \n",
            "                                                                                                  \n",
            " max_pooling3d_9 (MaxPoolin  (None, 4, 7, 7, 64)          0         ['conv3d_17[0][0]']           \n",
            " g3D)                                                                                             \n",
            "                                                                                                  \n",
            " conv3d_18 (Conv3D)          (None, 4, 7, 7, 64)          36928     ['max_pooling3d_9[0][0]']     \n",
            "                                                                                                  \n",
            " conv3d_19 (Conv3D)          (None, 4, 7, 7, 64)          12352     ['conv3d_18[0][0]']           \n",
            "                                                                                                  \n",
            " max_pooling3d_10 (MaxPooli  (None, 2, 3, 3, 64)          0         ['conv3d_19[0][0]']           \n",
            " ng3D)                                                                                            \n",
            "                                                                                                  \n",
            " conv3d_20 (Conv3D)          (None, 2, 3, 3, 128)         73856     ['max_pooling3d_10[0][0]']    \n",
            "                                                                                                  \n",
            " conv3d_21 (Conv3D)          (None, 2, 3, 3, 128)         49280     ['conv3d_20[0][0]']           \n",
            "                                                                                                  \n",
            " max_pooling3d_11 (MaxPooli  (None, 1, 1, 1, 128)         0         ['conv3d_21[0][0]']           \n",
            " ng3D)                                                                                            \n",
            "                                                                                                  \n",
            " flatten (Flatten)           (None, 128)                  0         ['max_pooling3d_11[0][0]']    \n",
            "                                                                                                  \n",
            " dense (Dense)               (None, 128)                  16512     ['flatten[0][0]']             \n",
            "                                                                                                  \n",
            " dropout (Dropout)           (None, 128)                  0         ['dense[0][0]']               \n",
            "                                                                                                  \n",
            " dense_1 (Dense)             (None, 32)                   4128      ['dropout[0][0]']             \n",
            "                                                                                                  \n",
            " dense_2 (Dense)             (None, 2)                    66        ['dense_1[0][0]']             \n",
            "                                                                                                  \n",
            "==================================================================================================\n",
            "Total params: 272690 (1.04 MB)\n",
            "Trainable params: 272690 (1.04 MB)\n",
            "Non-trainable params: 0 (0.00 Byte)\n",
            "__________________________________________________________________________________________________\n"
          ]
        }
      ],
      "source": [
        "inputs = Input(shape=(64,224,224,5))\n",
        "\n",
        "rgb = Lambda(get_rgb,output_shape=None)(inputs)\n",
        "opt = Lambda(get_opt,output_shape=None)(inputs)\n",
        "\n",
        "##################################################### RGB channel\n",
        "rgb = Conv3D(\n",
        "    16, kernel_size=(1,3,3), strides=(1,1,1), kernel_initializer='he_normal', activation='relu', padding='same')(rgb)\n",
        "rgb = Conv3D(\n",
        "    16, kernel_size=(3,1,1), strides=(1,1,1), kernel_initializer='he_normal', activation='relu', padding='same')(rgb)\n",
        "rgb = MaxPooling3D(pool_size=(1,2,2))(rgb)\n",
        "\n",
        "rgb = Conv3D(\n",
        "    16, kernel_size=(1,3,3), strides=(1,1,1), kernel_initializer='he_normal', activation='relu', padding='same')(rgb)\n",
        "rgb = Conv3D(\n",
        "    16, kernel_size=(3,1,1), strides=(1,1,1), kernel_initializer='he_normal', activation='relu', padding='same')(rgb)\n",
        "rgb = MaxPooling3D(pool_size=(1,2,2))(rgb)\n",
        "\n",
        "rgb = Conv3D(\n",
        "    32, kernel_size=(1,3,3), strides=(1,1,1), kernel_initializer='he_normal', activation='relu', padding='same')(rgb)\n",
        "rgb = Conv3D(\n",
        "    32, kernel_size=(3,1,1), strides=(1,1,1), kernel_initializer='he_normal', activation='relu', padding='same')(rgb)\n",
        "rgb = MaxPooling3D(pool_size=(1,2,2))(rgb)\n",
        "\n",
        "rgb = Conv3D(\n",
        "    32, kernel_size=(1,3,3), strides=(1,1,1), kernel_initializer='he_normal', activation='relu', padding='same')(rgb)\n",
        "rgb = Conv3D(\n",
        "    32, kernel_size=(3,1,1), strides=(1,1,1), kernel_initializer='he_normal', activation='relu', padding='same')(rgb)\n",
        "rgb = MaxPooling3D(pool_size=(1,2,2))(rgb)\n",
        "\n",
        "##################################################### Optical Flow channel\n",
        "opt = Conv3D(\n",
        "    16, kernel_size=(1,3,3), strides=(1,1,1), kernel_initializer='he_normal', activation='relu', padding='same')(opt)\n",
        "opt = Conv3D(\n",
        "    16, kernel_size=(3,1,1), strides=(1,1,1), kernel_initializer='he_normal', activation='relu', padding='same')(opt)\n",
        "opt = MaxPooling3D(pool_size=(1,2,2))(opt)\n",
        "\n",
        "opt = Conv3D(\n",
        "    16, kernel_size=(1,3,3), strides=(1,1,1), kernel_initializer='he_normal', activation='relu', padding='same')(opt)\n",
        "opt = Conv3D(\n",
        "    16, kernel_size=(3,1,1), strides=(1,1,1), kernel_initializer='he_normal', activation='relu', padding='same')(opt)\n",
        "opt = MaxPooling3D(pool_size=(1,2,2))(opt)\n",
        "\n",
        "opt = Conv3D(\n",
        "    32, kernel_size=(1,3,3), strides=(1,1,1), kernel_initializer='he_normal', activation='relu', padding='same')(opt)\n",
        "opt = Conv3D(\n",
        "    32, kernel_size=(3,1,1), strides=(1,1,1), kernel_initializer='he_normal', activation='relu', padding='same')(opt)\n",
        "opt = MaxPooling3D(pool_size=(1,2,2))(opt)\n",
        "\n",
        "opt = Conv3D(\n",
        "    32, kernel_size=(1,3,3), strides=(1,1,1), kernel_initializer='he_normal', activation='sigmoid', padding='same')(opt)\n",
        "opt = Conv3D(\n",
        "    32, kernel_size=(3,1,1), strides=(1,1,1), kernel_initializer='he_normal', activation='sigmoid', padding='same')(opt)\n",
        "opt = MaxPooling3D(pool_size=(1,2,2))(opt)\n",
        "\n",
        "\n",
        "##################################################### Fusion and Pooling\n",
        "x = Multiply()([rgb,opt])\n",
        "x = MaxPooling3D(pool_size=(8,1,1))(x)\n",
        "\n",
        "##################################################### Merging Block\n",
        "x = Conv3D(\n",
        "    64, kernel_size=(1,3,3), strides=(1,1,1), kernel_initializer='he_normal', activation='relu', padding='same')(x)\n",
        "x = Conv3D(\n",
        "    64, kernel_size=(3,1,1), strides=(1,1,1), kernel_initializer='he_normal', activation='relu', padding='same')(x)\n",
        "x = MaxPooling3D(pool_size=(2,2,2))(x)\n",
        "\n",
        "x = Conv3D(\n",
        "    64, kernel_size=(1,3,3), strides=(1,1,1), kernel_initializer='he_normal', activation='relu', padding='same')(x)\n",
        "x = Conv3D(\n",
        "    64, kernel_size=(3,1,1), strides=(1,1,1), kernel_initializer='he_normal', activation='relu', padding='same')(x)\n",
        "x = MaxPooling3D(pool_size=(2,2,2))(x)\n",
        "\n",
        "x = Conv3D(\n",
        "    128, kernel_size=(1,3,3), strides=(1,1,1), kernel_initializer='he_normal', activation='relu', padding='same')(x)\n",
        "x = Conv3D(\n",
        "    128, kernel_size=(3,1,1), strides=(1,1,1), kernel_initializer='he_normal', activation='relu', padding='same')(x)\n",
        "x = MaxPooling3D(pool_size=(2,3,3))(x)\n",
        "\n",
        "##################################################### FC Layers\n",
        "x = Flatten()(x)\n",
        "x = Dense(128,activation='relu')(x)\n",
        "x = Dropout(0.2)(x)\n",
        "x = Dense(32, activation='relu')(x)\n",
        "\n",
        "# Build the model\n",
        "pred = Dense(2, activation='softmax')(x)\n",
        "model = Model(inputs=inputs, outputs=pred)\n",
        "model.summary()"
      ]
    },
    {
      "cell_type": "markdown",
      "metadata": {
        "id": "aDxqY3XVVbdP"
      },
      "source": [
        "### Set gru"
      ]
    },
    {
      "cell_type": "code",
      "execution_count": 11,
      "metadata": {
        "id": "OikToqW8ccDW"
      },
      "outputs": [],
      "source": [
        "import os\n",
        "import tensorflow as tf\n",
        "from tensorflow.keras.models import Sequential\n",
        "from tensorflow.keras.layers import Dense, Flatten, Conv3D, MaxPooling3D, Dropout, BatchNormalization, Activation, LeakyReLU\n"
      ]
    },
    {
      "cell_type": "code",
      "execution_count": 12,
      "metadata": {
        "id": "xn41g_VJVbOH"
      },
      "outputs": [],
      "source": [
        "import os\n",
        "os.environ[\"CUDA_VISIBLE_DEVICES\"] = \"0,1,2,3\"\n",
        "\n",
        "# from keras.utils import multi_gpu_model\n",
        "# parallel_model = multi_gpu_model(model, gpus=4)"
      ]
    },
    {
      "cell_type": "code",
      "execution_count": 13,
      "metadata": {
        "id": "Z7M1XOrpem39"
      },
      "outputs": [],
      "source": [
        "from keras.optimizers import Adam, SGD\n",
        "\n",
        "sgd = SGD(learning_rate=0.01, momentum=0.9, nesterov=True)\n",
        "model.compile(optimizer=sgd, loss='categorical_crossentropy', metrics=['accuracy'])"
      ]
    },
    {
      "cell_type": "code",
      "execution_count": 14,
      "metadata": {
        "id": "G8s8AcCGhvHh"
      },
      "outputs": [],
      "source": [
        "# Learning Rate Scheduler\n",
        "import keras.backend as K\n",
        "from keras.callbacks import LearningRateScheduler\n",
        "\n",
        "def scheduler(epoch):\n",
        "    if epoch % 10 == 0 and epoch != 0:\n",
        "        lr = K.get_value(model.optimizer.lr)\n",
        "        K.set_value(model.optimizer.lr, lr * 0.7)\n",
        "    return K.get_value(model.optimizer.lr)\n",
        "\n",
        "reduce_lr = LearningRateScheduler(scheduler)"
      ]
    },
    {
      "cell_type": "code",
      "execution_count": 21,
      "metadata": {
        "id": "5O70x4C-h0RH"
      },
      "outputs": [],
      "source": [
        "# Saving the best model and training logs\n",
        "from keras.callbacks import ModelCheckpoint, CSVLogger\n",
        "import keras\n",
        "\n",
        "class MyCbk(keras.callbacks.Callback):\n",
        "\n",
        "    def __init__(self, model):\n",
        "         self.model_to_save = model\n",
        "\n",
        "    def on_epoch_end(self, epoch, logs=None):\n",
        "        self.model_to_save.save(\"/home/islabworker3/tienvo/dangdat/data-video/model/model_at_epoch_%d.h5\" % (epoch+1))\n",
        "\n",
        "check_point = MyCbk(model)\n",
        "\n",
        "\n",
        "# filename = 'Logs/ours_log.csv'\n",
        "# csv_logger = CSVLogger(filename, separator=',', append=True)"
      ]
    },
    {
      "cell_type": "code",
      "execution_count": 22,
      "metadata": {
        "id": "yRjA1ENXh50R"
      },
      "outputs": [],
      "source": [
        "callbacks_list = [check_point, reduce_lr]"
      ]
    },
    {
      "cell_type": "code",
      "execution_count": 23,
      "metadata": {
        "id": "CdXzlxthiBwQ"
      },
      "outputs": [],
      "source": [
        "# set essential params\n",
        "num_epochs  = 1\n",
        "num_workers = 16\n",
        "batch_size  = 32"
      ]
    },
    {
      "cell_type": "code",
      "execution_count": 24,
      "metadata": {
        "colab": {
          "base_uri": "https://localhost:8080/"
        },
        "id": "N9UP69JJiHoM",
        "outputId": "14c5db7e-3861-4473-f402-968c518fb764"
      },
      "outputs": [
        {
          "name": "stdout",
          "output_type": "stream",
          "text": [
            "Found 4 files belonging to 2 classes.\n",
            "    Normal :  0\n",
            "  Restrict :  1\n",
            "Found 4 files belonging to 2 classes.\n",
            "    Normal :  0\n",
            "  Restrict :  1\n"
          ]
        }
      ],
      "source": [
        "# init data generator\n",
        "\n",
        "dataset = 'bigdata'\n",
        "\n",
        "train_generator = DataGenerator(directory=\"/home/islabworker3/tienvo/dangdat/data-video/source/train\".format(dataset),\n",
        "                                batch_size=batch_size,\n",
        "                                data_augmentation=True)\n",
        "\n",
        "val_generator = DataGenerator(directory=\"/home/islabworker3/tienvo/dangdat/data-video/source/val\".format(dataset),\n",
        "                              batch_size=batch_size,\n",
        "                              data_augmentation=False)"
      ]
    },
    {
      "cell_type": "code",
      "execution_count": null,
      "metadata": {},
      "outputs": [],
      "source": [
        "print('----------Tranning-----------')"
      ]
    },
    {
      "cell_type": "code",
      "execution_count": 25,
      "metadata": {
        "colab": {
          "base_uri": "https://localhost:8080/"
        },
        "id": "jHY2jyk5iTia",
        "outputId": "f56b2227-9126-4599-9c5f-dba056c678b7"
      },
      "outputs": [
        {
          "name": "stderr",
          "output_type": "stream",
          "text": [
            "<ipython-input-25-da247c096153>:1: UserWarning: `Model.fit_generator` is deprecated and will be removed in a future version. Please use `Model.fit`, which supports generators.\n",
            "  hist = model.fit_generator(\n"
          ]
        },
        {
          "name": "stdout",
          "output_type": "stream",
          "text": [
            "1/1 [==============================] - 129s 129s/step - loss: 1.7432 - accuracy: 0.5000 - val_loss: 4.7551 - val_accuracy: 0.5000 - lr: 0.0100\n"
          ]
        }
      ],
      "source": [
        "hist = model.fit_generator(\n",
        "    generator=train_generator,\n",
        "    validation_data=val_generator,\n",
        "    callbacks=callbacks_list,\n",
        "    verbose=1,\n",
        "    epochs=num_epochs,\n",
        "    workers=num_workers ,\n",
        "    max_queue_size=4,\n",
        "    steps_per_epoch=len(train_generator),\n",
        "    validation_steps=len(val_generator))"
      ]
    },
    {
      "cell_type": "code",
      "execution_count": null,
      "metadata": {},
      "outputs": [],
      "source": [
        "print('Train successfully')"
      ]
    },
    {
      "cell_type": "markdown",
      "metadata": {
        "id": "Bse1hnibRIdO"
      },
      "source": [
        "### Test model"
      ]
    },
    {
      "cell_type": "code",
      "execution_count": null,
      "metadata": {
        "id": "cLREbN-2Ed9S"
      },
      "outputs": [],
      "source": [
        "# from keras.models import load_model\n",
        "# from keras.optimizers import SGD\n",
        "\n",
        "# sgd = SGD(learning_rate=0.01, momentum=0.9, nesterov=True)\n",
        "\n",
        "# model = load_model('/content/drive/MyDrive/big data/model_at_epoch_2.h5')\n",
        "\n",
        "# model.compile(optimizer=sgd,\n",
        "#               loss='categorical_crossentropy',\n",
        "#               metrics=['accuracy'])\n",
        "\n"
      ]
    },
    {
      "cell_type": "code",
      "execution_count": null,
      "metadata": {
        "colab": {
          "base_uri": "https://localhost:8080/"
        },
        "id": "vqAi-kV2I6JT",
        "outputId": "351fc4f9-92bc-4f21-f9b7-cbb7f1ba7bcb"
      },
      "outputs": [
        {
          "name": "stdout",
          "output_type": "stream",
          "text": [
            "1/1 [==============================] - 6s 6s/step\n",
            "Predicted class: [1]\n"
          ]
        }
      ],
      "source": [
        "# import cv2\n",
        "# import numpy as np\n",
        "# from keras.models import load_model\n",
        "\n",
        "# def preprocess_video(file_path, resize=(224, 224), target_frames=64):\n",
        "#     cap = cv2.VideoCapture(file_path)\n",
        "#     len_frames = int(cap.get(cv2.CAP_PROP_FRAME_COUNT))\n",
        "\n",
        "#     frames = []\n",
        "#     for i in range(len_frames):\n",
        "#         ret, frame = cap.read()\n",
        "#         if not ret:\n",
        "#             break\n",
        "#         frame = cv2.resize(frame, resize, interpolation=cv2.INTER_AREA)\n",
        "#         frame = cv2.cvtColor(frame, cv2.COLOR_BGR2RGB)\n",
        "#         frames.append(frame)\n",
        "\n",
        "#     cap.release()\n",
        "\n",
        "#     frames = np.array(frames)\n",
        "#     flows = getOpticalFlow(frames)\n",
        "\n",
        "#     result = np.zeros((len(flows), 224, 224, 5))\n",
        "#     result[..., :3] = frames\n",
        "#     result[..., 3:] = flows\n",
        "\n",
        "#     result = uniform_sampling(result, target_frames)\n",
        "#     result[..., :3] = normalize(result[..., :3])\n",
        "#     result[..., 3:] = normalize(result[..., 3:])\n",
        "\n",
        "#     return result[np.newaxis, ...]\n",
        "\n",
        "# def normalize(data):\n",
        "#     mean = np.mean(data)\n",
        "#     std = np.std(data)\n",
        "#     return (data - mean) / std\n",
        "\n",
        "# def uniform_sampling(video, target_frames=64):\n",
        "#     len_frames = len(video)\n",
        "#     interval = int(np.ceil(len_frames / target_frames))\n",
        "#     sampled_video = []\n",
        "\n",
        "#     for i in range(0, len_frames, interval):\n",
        "#         sampled_video.append(video[i])\n",
        "\n",
        "#     num_pad = target_frames - len(sampled_video)\n",
        "#     padding = [video[0]] * num_pad\n",
        "#     sampled_video.extend(padding)\n",
        "\n",
        "#     return np.array(sampled_video, dtype=np.float32)\n",
        "\n",
        "# # Load the trained model\n",
        "# model = load_model('/content/drive/MyDrive/big data/model_at_epoch_2.h5')\n",
        "\n",
        "# # Preprocess the new video\n",
        "# video_path = '/content/drive/MyDrive/big data/train vid/train/Fight/91.20.mp4'\n",
        "# preprocessed_video = preprocess_video(video_path)\n",
        "\n",
        "# # Predict using the model\n",
        "# predictions = model.predict(preprocessed_video)\n",
        "# predicted_class = np.argmax(predictions, axis=1)\n",
        "\n",
        "# print(f'Predicted class: {predicted_class}')"
      ]
    },
    {
      "cell_type": "code",
      "execution_count": null,
      "metadata": {
        "id": "V8CRsNvq7U1U"
      },
      "outputs": [],
      "source": [
        "# import os\n",
        "# import cv2\n",
        "# import numpy as np\n",
        "# from keras.models import load_model\n",
        "# from sklearn.metrics import accuracy_score, precision_score, recall_score, f1_score\n",
        "\n",
        "# def preprocess_video(file_path, resize=(224, 224), target_frames=64):\n",
        "#     cap = cv2.VideoCapture(file_path)\n",
        "#     len_frames = int(cap.get(cv2.CAP_PROP_FRAME_COUNT))\n",
        "\n",
        "#     frames = []\n",
        "#     for i in range(len_frames):\n",
        "#         ret, frame = cap.read()\n",
        "#         if not ret:\n",
        "#             break\n",
        "#         frame = cv2.resize(frame, resize, interpolation=cv2.INTER_AREA)\n",
        "#         frame = cv2.cvtColor(frame, cv2.COLOR_BGR2RGB)\n",
        "#         frames.append(frame)\n",
        "\n",
        "#     cap.release()\n",
        "\n",
        "#     frames = np.array(frames)\n",
        "#     flows = getOpticalFlow(frames)\n",
        "\n",
        "#     result = np.zeros((len(flows), 224, 224, 5))\n",
        "#     result[..., :3] = frames\n",
        "#     result[..., 3:] = flows\n",
        "\n",
        "#     result = uniform_sampling(result, target_frames)\n",
        "#     result[..., :3] = normalize(result[..., :3])\n",
        "#     result[..., 3:] = normalize(result[..., 3:])\n",
        "\n",
        "#     return result[np.newaxis, ...]\n",
        "\n",
        "# def normalize(data):\n",
        "#     mean = np.mean(data)\n",
        "#     std = np.std(data)\n",
        "#     return (data - mean) / std\n",
        "\n",
        "# def uniform_sampling(video, target_frames=64):\n",
        "#     len_frames = len(video)\n",
        "#     interval = int(np.ceil(len_frames / target_frames))\n",
        "#     sampled_video = []\n",
        "\n",
        "#     for i in range(0, len_frames, interval):\n",
        "#         sampled_video.append(video[i])\n",
        "\n",
        "#     num_pad = target_frames - len(sampled_video)\n",
        "#     padding = [video[0]] * num_pad\n",
        "#     sampled_video.extend(padding)\n",
        "\n",
        "#     return np.array(sampled_video, dtype=np.float32)\n",
        "\n",
        "# def getOpticalFlow(video):\n",
        "#     \"\"\"Calculate dense optical flow of input video\n",
        "#     Args:\n",
        "#         video: the input video with shape of [frames, height, width, channel].dtype=np.array\n",
        "#     Returns:\n",
        "#         flows: the optical flow with the shape of [frames, height, width, 2]\n",
        "#     \"\"\"\n",
        "#     # initialize the list of optical flows\n",
        "#     gray_video = []\n",
        "#     for i in range(len(video)):\n",
        "#         img = cv2.cvtColor(video[i], cv2.COLOR_RGB2GRAY)\n",
        "#         gray_video.append(np.reshape(img, (224, 224, 1)))\n",
        "\n",
        "#     flows = []\n",
        "#     for i in range(0, len(video) - 1):\n",
        "#         # calculate optical flow between each pair of frames\n",
        "#         flow = cv2.calcOpticalFlowFarneback(\n",
        "#             gray_video[i], gray_video[i + 1], None, 0.5, 3, 15, 3, 5, 1.2, cv2.OPTFLOW_FARNEBACK_GAUSSIAN\n",
        "#         )\n",
        "#         # subtract the mean in order to eliminate the movement of camera\n",
        "#         flow[..., 0] -= np.mean(flow[..., 0])\n",
        "#         flow[..., 1] -= np.mean(flow[..., 1])\n",
        "#         # normalize each component in optical flow\n",
        "#         flow[..., 0] = cv2.normalize(flow[..., 0], None, 0, 255, cv2.NORM_MINMAX)\n",
        "#         flow[..., 1] = cv2.normalize(flow[..., 1], None, 0, 255, cv2.NORM_MINMAX)\n",
        "#         # Add into list\n",
        "#         flows.append(flow)\n",
        "\n",
        "#     # Padding the last frame as empty array\n",
        "#     flows.append(np.zeros((224, 224, 2)))\n",
        "\n",
        "#     return np.array(flows, dtype=np.float32)\n",
        "\n",
        "# # Load the trained model\n",
        "# model = load_model('/content/drive/MyDrive/big data/model_at_epoch_2.h5')\n",
        "\n",
        "# def evaluate_model(model, test_folder):\n",
        "#     labels = {'normal': 0, 'restrict': 1}\n",
        "#     y_true = []\n",
        "#     y_pred = []\n",
        "\n",
        "#     for subfolder in os.listdir(test_folder):\n",
        "#         subfolder_path = os.path.join(test_folder, subfolder)\n",
        "#         if os.path.isdir(subfolder_path):\n",
        "#             for video_file in os.listdir(subfolder_path):\n",
        "#                 video_path = os.path.join(subfolder_path, video_file)\n",
        "#                 if video_path.endswith('.mp4'):\n",
        "#                     preprocessed_video = preprocess_video(video_path)\n",
        "#                     predictions = model.predict(preprocessed_video)\n",
        "#                     predicted_class = np.argmax(predictions, axis=1)[0]\n",
        "#                     y_pred.append(predicted_class)\n",
        "#                     y_true.append(labels[subfolder])\n",
        "\n",
        "#     accuracy = accuracy_score(y_true, y_pred)\n",
        "#     precision = precision_score(y_true, y_pred, average='weighted')\n",
        "#     recall = recall_score(y_true, y_pred, average='weighted')\n",
        "#     f1 = f1_score(y_true, y_pred, average='weighted')\n",
        "\n",
        "#     return accuracy, precision, recall, f1\n",
        "\n",
        "# # Define the test folder path\n",
        "# test_folder_path = '/content/drive/MyDrive/big data/test vid/'\n",
        "\n",
        "# # Evaluate the model\n",
        "# accuracy, precision, recall, f1 = evaluate_model(model, test_folder_path)\n",
        "\n",
        "# print(f'Accuracy: {accuracy}')\n",
        "# print(f'Precision: {precision}')\n",
        "# print(f'Recall: {recall}')\n",
        "# print(f'F1 Score: {f1}')"
      ]
    }
  ],
  "metadata": {
    "accelerator": "GPU",
    "colab": {
      "gpuType": "T4",
      "provenance": []
    },
    "kernelspec": {
      "display_name": "Python 3",
      "name": "python3"
    },
    "language_info": {
      "name": "python"
    }
  },
  "nbformat": 4,
  "nbformat_minor": 0
}
