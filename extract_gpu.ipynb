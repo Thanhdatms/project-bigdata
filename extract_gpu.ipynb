{
 "cells": [
  {
   "cell_type": "code",
   "execution_count": null,
   "metadata": {},
   "outputs": [],
   "source": [
    "import cv2\n",
    "import numpy as np\n",
    "import matplotlib.pyplot as plt\n",
    "import os\n",
    "from tqdm import tqdm\n",
    "import torch\n",
    "\n",
    "device = torch.device(\"cuda\" if torch.cuda.is_available() else \"cpu\")\n",
    "print(f\"Using device: {device}\")"
   ]
  },
  {
   "cell_type": "code",
   "execution_count": null,
   "metadata": {},
   "outputs": [],
   "source": [
    "def getOpticalFlow(video):\n",
    "    \"\"\"Calculate dense optical flow of input video using GPU.\n",
    "    Args:\n",
    "        video: the input video with shape of [frames, height, width, channel]. dtype=np.array\n",
    "    Returns:\n",
    "        flows_x: the optical flow at x-axis, with the shape of [frames, height, width, channel]\n",
    "        flows_y: the optical flow at y-axis, with the shape of [frames, height, width, channel]\n",
    "    \"\"\"\n",
    "    # Initialize the list of optical flows\n",
    "    gray_video = []\n",
    "    for i in range(len(video)):\n",
    "        img = cv2.cvtColor(video[i], cv2.COLOR_RGB2GRAY)\n",
    "        gray_video.append(np.reshape(img, (224, 224, 1)))\n",
    "\n",
    "    flows = []\n",
    "    for i in range(0, len(video) - 1):\n",
    "        # Calculate optical flow between each pair of frames\n",
    "        prev_frame = torch.tensor(gray_video[i], device=device, dtype=torch.float32)\n",
    "        next_frame = torch.tensor(gray_video[i + 1], device=device, dtype=torch.float32)\n",
    "        flow = cv2.calcOpticalFlowFarneback(\n",
    "            prev_frame.cpu().numpy(), next_frame.cpu().numpy(), None, 0.5, 3, 15, 3, 5, 1.2, cv2.OPTFLOW_FARNEBACK_GAUSSIAN\n",
    "        )\n",
    "        # Subtract the mean to eliminate the movement of the camera\n",
    "        flow[..., 0] -= np.mean(flow[..., 0])\n",
    "        flow[..., 1] -= np.mean(flow[..., 1])\n",
    "        # Normalize each component in optical flow\n",
    "        flow[..., 0] = cv2.normalize(flow[..., 0], None, 0, 255, cv2.NORM_MINMAX)\n",
    "        flow[..., 1] = cv2.normalize(flow[..., 1], None, 0, 255, cv2.NORM_MINMAX)\n",
    "        # Add into list\n",
    "        flows.append(flow)\n",
    "\n",
    "    # Padding the last frame as an empty array\n",
    "    flows.append(np.zeros((224, 224, 2)))\n",
    "\n",
    "    return np.array(flows, dtype=np.float32)\n"
   ]
  },
  {
   "cell_type": "code",
   "execution_count": null,
   "metadata": {},
   "outputs": [],
   "source": [
    "def Save2Npy(file_dir, save_dir):\n",
    "    \"\"\"Transfer all the videos and save them into a specified directory\n",
    "    Args:\n",
    "        file_dir: source folder of target videos\n",
    "        save_dir: destination folder of output .npy files\n",
    "    \"\"\"\n",
    "    if not os.path.exists(save_dir):\n",
    "        os.makedirs(save_dir)\n",
    "    # List the files\n",
    "    videos = os.listdir(file_dir)\n",
    "    for v in tqdm(videos):\n",
    "        # Split video name\n",
    "        video_name = v.split('.')[0]\n",
    "        # Get src\n",
    "        video_path = os.path.join(file_dir, v)\n",
    "        # Get dest\n",
    "        save_path = os.path.join(save_dir, video_name + '.npy')\n",
    "        # Load and preprocess video\n",
    "        try:\n",
    "            data = Video2Npy(file_path=video_path, resize=(224, 224))\n",
    "            if data is not None:\n",
    "                data = np.uint8(data)\n",
    "                # Save as .npy file\n",
    "                np.save(save_path, data)\n",
    "            else:\n",
    "                print(f\"Skipping {video_path} due to errors.\")\n",
    "        except Exception as e:\n",
    "            print(f\"Error processing {video_path}: {e}\")\n",
    "\n",
    "    return None\n"
   ]
  },
  {
   "cell_type": "code",
   "execution_count": null,
   "metadata": {},
   "outputs": [],
   "source": [
    "source_path = \"/home/islabworker3/tienvo/dataset_video\"\n",
    "target_path = \"/home/islabworker3/tienvo/dangdat/data-video/source\"\n",
    "\n",
    "for f1 in ['train', 'val', 'test']:\n",
    "    for f2 in ['normal', 'restricted']:\n",
    "        path1 = os.path.join(source_path, f1, f2)\n",
    "        path2 = os.path.join(target_path, f1, f2)\n",
    "        Save2Npy(file_dir=path1, save_dir=path2)\n"
   ]
  }
 ],
 "metadata": {
  "language_info": {
   "name": "python"
  }
 },
 "nbformat": 4,
 "nbformat_minor": 2
}
